{
 "cells": [
  {
   "cell_type": "code",
   "execution_count": 2,
   "metadata": {},
   "outputs": [],
   "source": [
    "import pandas as pd"
   ]
  },
  {
   "cell_type": "code",
   "execution_count": 12,
   "metadata": {},
   "outputs": [
    {
     "data": {
      "text/html": [
       "<div>\n",
       "<style scoped>\n",
       "    .dataframe tbody tr th:only-of-type {\n",
       "        vertical-align: middle;\n",
       "    }\n",
       "\n",
       "    .dataframe tbody tr th {\n",
       "        vertical-align: top;\n",
       "    }\n",
       "\n",
       "    .dataframe thead th {\n",
       "        text-align: right;\n",
       "    }\n",
       "</style>\n",
       "<table border=\"1\" class=\"dataframe\">\n",
       "  <thead>\n",
       "    <tr style=\"text-align: right;\">\n",
       "      <th></th>\n",
       "      <th>date</th>\n",
       "      <th>consumer_code</th>\n",
       "      <th>cookie_code</th>\n",
       "      <th>aspecto</th>\n",
       "      <th>olor</th>\n",
       "      <th>textura</th>\n",
       "      <th>sabor</th>\n",
       "      <th>color</th>\n",
       "      <th>dureza</th>\n",
       "      <th>dulzor</th>\n",
       "    </tr>\n",
       "  </thead>\n",
       "  <tbody>\n",
       "    <tr>\n",
       "      <th>0</th>\n",
       "      <td>05/05/2024</td>\n",
       "      <td>1</td>\n",
       "      <td>2</td>\n",
       "      <td>apariencia divertida perfecta para un público ...</td>\n",
       "      <td>olor</td>\n",
       "      <td>apariencia divertida perfecta para un público ...</td>\n",
       "      <td>apariencia divertida perfecta para un público ...</td>\n",
       "      <td>color</td>\n",
       "      <td>duro</td>\n",
       "      <td>apariencia divertida perfecta para un público ...</td>\n",
       "    </tr>\n",
       "    <tr>\n",
       "      <th>1</th>\n",
       "      <td>05/05/2024</td>\n",
       "      <td>1</td>\n",
       "      <td>2</td>\n",
       "      <td>apariencia divertida perfecta para un público ...</td>\n",
       "      <td>olor</td>\n",
       "      <td>apariencia divertida perfecta para un público ...</td>\n",
       "      <td>apariencia divertida perfecta para un público ...</td>\n",
       "      <td>color</td>\n",
       "      <td>dureza</td>\n",
       "      <td>apariencia divertida perfecta para un público ...</td>\n",
       "    </tr>\n",
       "    <tr>\n",
       "      <th>2</th>\n",
       "      <td>05/05/2024</td>\n",
       "      <td>1</td>\n",
       "      <td>2</td>\n",
       "      <td>apariencia divertida perfecta para un público ...</td>\n",
       "      <td>olor</td>\n",
       "      <td>apariencia divertida perfecta para un público ...</td>\n",
       "      <td>apariencia divertida perfecta para un público ...</td>\n",
       "      <td>color</td>\n",
       "      <td>dureza</td>\n",
       "      <td>apariencia divertida perfecta para un público ...</td>\n",
       "    </tr>\n",
       "  </tbody>\n",
       "</table>\n",
       "</div>"
      ],
      "text/plain": [
       "         date  consumer_code  cookie_code  \\\n",
       "0  05/05/2024              1            2   \n",
       "1  05/05/2024              1            2   \n",
       "2  05/05/2024              1            2   \n",
       "\n",
       "                                             aspecto  olor  \\\n",
       "0  apariencia divertida perfecta para un público ...  olor   \n",
       "1  apariencia divertida perfecta para un público ...  olor   \n",
       "2  apariencia divertida perfecta para un público ...  olor   \n",
       "\n",
       "                                             textura  \\\n",
       "0  apariencia divertida perfecta para un público ...   \n",
       "1  apariencia divertida perfecta para un público ...   \n",
       "2  apariencia divertida perfecta para un público ...   \n",
       "\n",
       "                                               sabor  color  dureza  \\\n",
       "0  apariencia divertida perfecta para un público ...  color    duro   \n",
       "1  apariencia divertida perfecta para un público ...  color  dureza   \n",
       "2  apariencia divertida perfecta para un público ...  color  dureza   \n",
       "\n",
       "                                              dulzor  \n",
       "0  apariencia divertida perfecta para un público ...  \n",
       "1  apariencia divertida perfecta para un público ...  \n",
       "2  apariencia divertida perfecta para un público ...  "
      ]
     },
     "execution_count": 12,
     "metadata": {},
     "output_type": "execute_result"
    }
   ],
   "source": [
    "df = pd.read_csv('resultados_formularios.csv', encoding='latin1')\n",
    "df.head(60)"
   ]
  }
 ],
 "metadata": {
  "kernelspec": {
   "display_name": ".venv",
   "language": "python",
   "name": "python3"
  },
  "language_info": {
   "codemirror_mode": {
    "name": "ipython",
    "version": 3
   },
   "file_extension": ".py",
   "mimetype": "text/x-python",
   "name": "python",
   "nbconvert_exporter": "python",
   "pygments_lexer": "ipython3",
   "version": "3.12.2"
  }
 },
 "nbformat": 4,
 "nbformat_minor": 2
}
