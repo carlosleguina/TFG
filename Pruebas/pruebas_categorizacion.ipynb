{
 "cells": [
  {
   "cell_type": "code",
   "execution_count": 15,
   "metadata": {},
   "outputs": [],
   "source": [
    "from spire.doc import *\n",
    "from spire.doc.common import *\n",
    "import os\n",
    "\n",
    "\n",
    "from langchain_community.document_loaders import Docx2txtLoader\n",
    "from langchain.text_splitter import RecursiveCharacterTextSplitter\n",
    "\n",
    "# imports\n",
    "import ast  # for converting embeddings saved as strings back to arrays\n",
    "from openai import OpenAI # for calling the OpenAI API\n",
    "import pandas as pd  # for storing text and embeddings data\n",
    "import tiktoken  # for counting tokens\n",
    " # for getting API token from env variable OPENAI_API_KEY\n",
    "from scipy import spatial  # for calculating vector similarities for search"
   ]
  },
  {
   "cell_type": "code",
   "execution_count": 16,
   "metadata": {},
   "outputs": [],
   "source": [
    "sys.path.append('../..')\n",
    "\n",
    "from dotenv import load_dotenv, find_dotenv\n",
    "_ = load_dotenv(find_dotenv()) # read local .env file\n",
    " \n",
    "client = OpenAI(api_key=os.environ['OPENAI_API_KEY'])\n",
    "\n",
    "EMBEDDING_MODEL = \"text-embedding-3-small\"\n",
    "GPT_MODEL = \"gpt-3.5-turbo\""
   ]
  },
  {
   "cell_type": "code",
   "execution_count": 17,
   "metadata": {},
   "outputs": [],
   "source": [
    "def get_embedding(text, model=EMBEDDING_MODEL):\n",
    "   text = text.replace(\"\\n\", \" \")\n",
    "   return client.embeddings.create(input = [text], model=model).data[0].embedding"
   ]
  },
  {
   "cell_type": "markdown",
   "metadata": {},
   "source": [
    "### GENERACIÓN TABLA\n"
   ]
  },
  {
   "cell_type": "code",
   "execution_count": 18,
   "metadata": {},
   "outputs": [],
   "source": [
    "import pandas as pd"
   ]
  },
  {
   "cell_type": "code",
   "execution_count": 19,
   "metadata": {},
   "outputs": [],
   "source": [
    "df = pd.read_excel(\"DATOS LIMPIOS IASENS PARTE 1 - SOLO NACIONALIDAD ESPAÑA.xlsx\", engine='openpyxl')"
   ]
  },
  {
   "cell_type": "code",
   "execution_count": 20,
   "metadata": {},
   "outputs": [],
   "source": [
    "text_table = df[['TEXTO']]"
   ]
  },
  {
   "cell_type": "code",
   "execution_count": 21,
   "metadata": {},
   "outputs": [],
   "source": [
    "categories_table = pd.DataFrame([\"GENERAL\", \"ASPECTO\", \"OLOR\", \"TEXTURA\", \"SABOR\", \"COLOR\", \"DUREZA\", \"DULZOR\"], columns=[\"categorias\"])"
   ]
  },
  {
   "cell_type": "code",
   "execution_count": 22,
   "metadata": {},
   "outputs": [],
   "source": [
    "from tqdm.auto import tqdm\n",
    "from tqdm.notebook import tqdm\n",
    "tqdm.pandas()"
   ]
  },
  {
   "cell_type": "code",
   "execution_count": 23,
   "metadata": {},
   "outputs": [],
   "source": [
    "categories_table['embeddings'] = categories_table['categorias'].apply(lambda x: get_embedding(x, model=EMBEDDING_MODEL))"
   ]
  },
  {
   "cell_type": "code",
   "execution_count": 48,
   "metadata": {},
   "outputs": [],
   "source": [
    "categories_table.to_csv(\"tabla_de_categorias\")"
   ]
  },
  {
   "cell_type": "markdown",
   "metadata": {},
   "source": [
    "### ENCONTRAR QUÉ CATEGORIAS FALTAN EN EL TEXTO PROPORCIONADO"
   ]
  },
  {
   "cell_type": "code",
   "execution_count": 24,
   "metadata": {},
   "outputs": [],
   "source": [
    "def cosine_similarity(a, b):\n",
    "    a = np.array(a)\n",
    "    b = np.array(b)\n",
    "    return np.dot(a, b) / (np.linalg.norm(a) * np.linalg.norm(b))"
   ]
  },
  {
   "cell_type": "code",
   "execution_count": 30,
   "metadata": {},
   "outputs": [
    {
     "data": {
      "text/html": [
       "<div>\n",
       "<style scoped>\n",
       "    .dataframe tbody tr th:only-of-type {\n",
       "        vertical-align: middle;\n",
       "    }\n",
       "\n",
       "    .dataframe tbody tr th {\n",
       "        vertical-align: top;\n",
       "    }\n",
       "\n",
       "    .dataframe thead th {\n",
       "        text-align: right;\n",
       "    }\n",
       "</style>\n",
       "<table border=\"1\" class=\"dataframe\">\n",
       "  <thead>\n",
       "    <tr style=\"text-align: right;\">\n",
       "      <th></th>\n",
       "      <th>categorias</th>\n",
       "      <th>embeddings</th>\n",
       "    </tr>\n",
       "  </thead>\n",
       "  <tbody>\n",
       "    <tr>\n",
       "      <th>0</th>\n",
       "      <td>GENERAL</td>\n",
       "      <td>[0.03326110914349556, 0.03465009108185768, 0.0...</td>\n",
       "    </tr>\n",
       "    <tr>\n",
       "      <th>1</th>\n",
       "      <td>ASPECTO</td>\n",
       "      <td>[-0.0074445027858018875, 0.008860873989760876,...</td>\n",
       "    </tr>\n",
       "    <tr>\n",
       "      <th>2</th>\n",
       "      <td>OLOR</td>\n",
       "      <td>[-0.0061168791726231575, -0.024890098720788956...</td>\n",
       "    </tr>\n",
       "    <tr>\n",
       "      <th>3</th>\n",
       "      <td>TEXTURA</td>\n",
       "      <td>[0.008095785975456238, 0.014355413615703583, -...</td>\n",
       "    </tr>\n",
       "    <tr>\n",
       "      <th>4</th>\n",
       "      <td>SABOR</td>\n",
       "      <td>[0.032947197556495667, 0.01949639990925789, -0...</td>\n",
       "    </tr>\n",
       "    <tr>\n",
       "      <th>5</th>\n",
       "      <td>COLOR</td>\n",
       "      <td>[0.013108697719871998, -0.018466662615537643, ...</td>\n",
       "    </tr>\n",
       "    <tr>\n",
       "      <th>6</th>\n",
       "      <td>DUREZA</td>\n",
       "      <td>[0.04361307621002197, 0.02947567217051983, 0.0...</td>\n",
       "    </tr>\n",
       "    <tr>\n",
       "      <th>7</th>\n",
       "      <td>DULZOR</td>\n",
       "      <td>[0.04333304241299629, 0.02525906264781952, -0....</td>\n",
       "    </tr>\n",
       "  </tbody>\n",
       "</table>\n",
       "</div>"
      ],
      "text/plain": [
       "  categorias                                         embeddings\n",
       "0    GENERAL  [0.03326110914349556, 0.03465009108185768, 0.0...\n",
       "1    ASPECTO  [-0.0074445027858018875, 0.008860873989760876,...\n",
       "2       OLOR  [-0.0061168791726231575, -0.024890098720788956...\n",
       "3    TEXTURA  [0.008095785975456238, 0.014355413615703583, -...\n",
       "4      SABOR  [0.032947197556495667, 0.01949639990925789, -0...\n",
       "5      COLOR  [0.013108697719871998, -0.018466662615537643, ...\n",
       "6     DUREZA  [0.04361307621002197, 0.02947567217051983, 0.0...\n",
       "7     DULZOR  [0.04333304241299629, 0.02525906264781952, -0...."
      ]
     },
     "execution_count": 30,
     "metadata": {},
     "output_type": "execute_result"
    }
   ],
   "source": [
    "categories_table"
   ]
  },
  {
   "cell_type": "code",
   "execution_count": 40,
   "metadata": {},
   "outputs": [],
   "source": [
    "def get_similarity_table(text, categories = categories_table):\n",
    "    similarity_table = categories[['categorias']]\n",
    "    embedded_text = get_embedding(text, model=EMBEDDING_MODEL)\n",
    "    similarity_table['similitud'] = categories.embeddings.apply(lambda x: cosine_similarity(x, embedded_text))\n",
    "    return similarity_table"
   ]
  },
  {
   "cell_type": "code",
   "execution_count": 46,
   "metadata": {},
   "outputs": [
    {
     "data": {
      "text/plain": [
       "'apariencia divertida perfecta para un público infantil.Me gusta el color tostadoy el sabor es bueno. Aunque es muy pegajosa en el paladar'"
      ]
     },
     "execution_count": 46,
     "metadata": {},
     "output_type": "execute_result"
    }
   ],
   "source": [
    "text_table['TEXTO'][0]"
   ]
  },
  {
   "cell_type": "code",
   "execution_count": 43,
   "metadata": {},
   "outputs": [
    {
     "name": "stdout",
     "output_type": "stream",
     "text": [
      "  categorias                                         embeddings  similitud\n",
      "0    GENERAL  [0.03326110914349556, 0.03465009108185768, 0.0...   0.082019\n",
      "1    ASPECTO  [-0.0074445027858018875, 0.008860873989760876,...   0.261545\n",
      "2       OLOR  [-0.0061168791726231575, -0.024890098720788956...   0.180538\n",
      "3    TEXTURA  [0.008095785975456238, 0.014355413615703583, -...   0.297098\n",
      "4      SABOR  [0.032947197556495667, 0.01949639990925789, -0...   0.410541\n"
     ]
    }
   ],
   "source": [
    "ranked_table = get_similarity_table(text_table['TEXTO'][0]).sort_values(by=\"similitud\", ascending=True)"
   ]
  },
  {
   "cell_type": "code",
   "execution_count": 62,
   "metadata": {},
   "outputs": [],
   "source": [
    "def get_categories(similarities):\n",
    "    similarities.sort_values(by=\"similitud\", ascending=True)\n",
    "    categories = similarities[similarities[\"similitud\"] < 0.2][\"categorias\"].tolist()\n",
    "    return categories"
   ]
  },
  {
   "cell_type": "code",
   "execution_count": 71,
   "metadata": {},
   "outputs": [
    {
     "data": {
      "text/plain": [
       "['GENERAL', 'DULZOR', 'OLOR']"
      ]
     },
     "execution_count": 71,
     "metadata": {},
     "output_type": "execute_result"
    }
   ],
   "source": [
    "lista = get_categories(ranked_table)\n",
    "lista"
   ]
  },
  {
   "cell_type": "code",
   "execution_count": 73,
   "metadata": {},
   "outputs": [
    {
     "data": {
      "text/plain": [
       "'GENERAL'"
      ]
     },
     "execution_count": 73,
     "metadata": {},
     "output_type": "execute_result"
    }
   ],
   "source": [
    "lista.pop(0)"
   ]
  },
  {
   "cell_type": "code",
   "execution_count": 74,
   "metadata": {},
   "outputs": [
    {
     "data": {
      "text/plain": [
       "['DULZOR', 'OLOR']"
      ]
     },
     "execution_count": 74,
     "metadata": {},
     "output_type": "execute_result"
    }
   ],
   "source": [
    "lista"
   ]
  },
  {
   "cell_type": "code",
   "execution_count": 49,
   "metadata": {},
   "outputs": [],
   "source": [
    "PLANTILLAS_PREGUNTAS = [\"General: ¿Puedes contarme más en general?\",\n",
    "\"Aspecto: ¿Cómo describirías su aspecto?\",\n",
    "\"Olor: ¿Qué me puedes decir sobre su olor?\",\n",
    "\"Textura: ¿Cómo describirías su textura?\",\n",
    "\"Sabor: ¿Qué me puedes decir sobre su sabor?\",\n",
    "\"Color: ¿Cómo describirías su color?\",\n",
    "\"Dureza: ¿Qué tan duro es?\",\n",
    "\"Dulzura: ¿Puedes comentar sobre su nivel de dulzura?\"]"
   ]
  },
  {
   "cell_type": "code",
   "execution_count": null,
   "metadata": {},
   "outputs": [],
   "source": [
    "def query_message(\n",
    "    query: str,\n",
    "    df: pd.DataFrame,\n",
    "    model: str,\n",
    "    token_budget: int\n",
    ") -> str:\n",
    "    \"\"\"Return a message for GPT, with relevant source texts pulled from a dataframe.\"\"\"\n",
    "    res = get_similarity_table( query)\n",
    "    strings = get_categories(res)\n",
    "    introduction = 'Utiliza los campos de abajo para generar UNICAMENTE preguntas . Si la pregunta no puede ser encontrada en los artículos o sobre el contexto de la conversación, escribe \"No he podido encontrar la respuesta\"'\n",
    "    question = f\"\\n\\Pregunta: {query} \"\n",
    "    conversation_context = f\"Contexto de la conversación: {get_conversation_context()}\"\n",
    "    message = introduction\n",
    "    for string in strings:\n",
    "        next_article = f'\\n\\nArtículos:\\n\"\"\"\\n{string}\\n\"\"\"'\n",
    "        if (\n",
    "            num_tokens(message + next_article + question + conversation_context, model=model)\n",
    "            > token_budget\n",
    "        ):\n",
    "            break\n",
    "        else:\n",
    "            message += next_article\n",
    "    return message + question + conversation_context\n"
   ]
  },
  {
   "cell_type": "code",
   "execution_count": 58,
   "metadata": {},
   "outputs": [
    {
     "ename": "TypeError",
     "evalue": "'str' object is not callable",
     "output_type": "error",
     "traceback": [
      "\u001b[1;31m---------------------------------------------------------------------------\u001b[0m",
      "\u001b[1;31mTypeError\u001b[0m                                 Traceback (most recent call last)",
      "Cell \u001b[1;32mIn[58], line 2\u001b[0m\n\u001b[0;32m      1\u001b[0m \u001b[38;5;28;01mfor\u001b[39;00m elem \u001b[38;5;129;01min\u001b[39;00m PLANTILLAS_PREGUNTAS:\n\u001b[1;32m----> 2\u001b[0m     \u001b[38;5;28mprint\u001b[39m(\u001b[43melem\u001b[49m\u001b[43m(\u001b[49m\u001b[43m)\u001b[49m)\n",
      "\u001b[1;31mTypeError\u001b[0m: 'str' object is not callable"
     ]
    }
   ],
   "source": [
    "for elem in PLANTILLAS_PREGUNTAS:\n",
    "    print(elem)"
   ]
  }
 ],
 "metadata": {
  "kernelspec": {
   "display_name": "TFGvenv",
   "language": "python",
   "name": "python3"
  },
  "language_info": {
   "codemirror_mode": {
    "name": "ipython",
    "version": 3
   },
   "file_extension": ".py",
   "mimetype": "text/x-python",
   "name": "python",
   "nbconvert_exporter": "python",
   "pygments_lexer": "ipython3",
   "version": "3.11.9"
  }
 },
 "nbformat": 4,
 "nbformat_minor": 2
}
